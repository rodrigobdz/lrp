{
 "cells": [
  {
   "cell_type": "markdown",
   "metadata": {},
   "source": [
    "# ImageNet ILSVRC 2012 Dataset Loader in PyTorch\n",
    "\n",
    "Load batches of images from ImageNet ILSVRC 2012 Dataset.\n",
    "This will be used for extended ImageNet experiments where we will apply LRP to multiple images and, consequently, also apply pixel flipping algorithm."
   ]
  },
  {
   "cell_type": "code",
   "execution_count": 12,
   "metadata": {},
   "outputs": [],
   "source": [
    "import torch\n",
    "import torchvision\n",
    "import multiprocessing\n",
    "\n",
    "from types import SimpleNamespace\n",
    "\n",
    "args = SimpleNamespace()\n",
    "args.nThreads = multiprocessing.cpu_count()\n",
    "\n",
    "imagenet_data = torchvision.datasets.ImageNet('~/Documents/personal/unterlagen/bildung/uni/master/masterarbeit/code/lrp/data',\n",
    "                                              split='val')\n",
    "data_loader = torch.utils.data.DataLoader(imagenet_data,\n",
    "                                          batch_size=4,\n",
    "                                          shuffle=True,\n",
    "                                          num_workers=args.nThreads)"
   ]
  },
  {
   "cell_type": "code",
   "execution_count": null,
   "metadata": {},
   "outputs": [],
   "source": []
  }
 ],
 "metadata": {
  "interpreter": {
   "hash": "0431170e0a69c05b0d16d782151a0ffea81a7c290afc025c33023a7a723c05b4"
  },
  "kernelspec": {
   "display_name": "Python 3.9.9 64-bit ('venv': venv)",
   "language": "python",
   "name": "python3"
  },
  "language_info": {
   "codemirror_mode": {
    "name": "ipython",
    "version": 3
   },
   "file_extension": ".py",
   "mimetype": "text/x-python",
   "name": "python",
   "nbconvert_exporter": "python",
   "pygments_lexer": "ipython3",
   "version": "3.9.9"
  },
  "orig_nbformat": 4
 },
 "nbformat": 4,
 "nbformat_minor": 2
}
