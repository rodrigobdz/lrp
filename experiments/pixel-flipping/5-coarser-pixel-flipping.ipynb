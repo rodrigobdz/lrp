{
 "cells": [
  {
   "cell_type": "markdown",
   "metadata": {},
   "source": [
    "# Pixel-Flipping with Coarser Steps\n",
    "\n",
    "In [3-fine-grained-pixel-flipping](./3-fine-grained-pixel-flipping.ipynb), we showed a functioning POC of the Pixel-Flipping algorithm. Areas to improve were that evaluating the function after every pixel flip was too costly and in this next iteration, we should:\n",
    "\n",
    "- Fix bugs in the algorithm (relevance scores were wrongly updated)\n",
    "- Improve syntax of algorithm (use masks to select the input values to flip, use a function to hide the details of the algorithm and make it more reusable)\n",
    "- Evaluate the decay of the class accuracy after multiple flips—i.e., use patches instead of single pixels."
   ]
  },
  {
   "cell_type": "code",
   "execution_count": null,
   "metadata": {},
   "outputs": [],
   "source": []
  }
 ],
 "metadata": {
  "interpreter": {
   "hash": "75ce43d651e7ed94697eb2e711875277eac8301956987ff4981f0cf80965cb87"
  },
  "kernelspec": {
   "display_name": "Python 3.9.10 ('venv': venv)",
   "language": "python",
   "name": "python3"
  },
  "language_info": {
   "name": "python",
   "version": "3.9.10"
  },
  "orig_nbformat": 4
 },
 "nbformat": 4,
 "nbformat_minor": 2
}
