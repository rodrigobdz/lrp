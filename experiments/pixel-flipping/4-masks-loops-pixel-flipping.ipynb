{
 "cells": [
  {
   "cell_type": "markdown",
   "metadata": {},
   "source": [
    "# Syntax Improvements to Pixel-Flipping Algorithm\n",
    "\n",
    "Compare the syntax of masks with loops for the next iteration of pixel-flipping which should take coarser steps."
   ]
  },
  {
   "cell_type": "markdown",
   "metadata": {},
   "source": [
    "## Random number generation\n",
    "\n",
    "### Numpy"
   ]
  },
  {
   "cell_type": "code",
   "execution_count": 1,
   "metadata": {},
   "outputs": [
    {
     "data": {
      "text/plain": [
       "0.5479120971119267"
      ]
     },
     "execution_count": 1,
     "metadata": {},
     "output_type": "execute_result"
    }
   ],
   "source": [
    "from numpy.random import default_rng\n",
    "rng = default_rng(seed=42)\n",
    "rng.uniform(low=-1, high=1)"
   ]
  },
  {
   "cell_type": "markdown",
   "metadata": {},
   "source": [
    "### PyTorch"
   ]
  },
  {
   "cell_type": "code",
   "execution_count": 2,
   "metadata": {},
   "outputs": [
    {
     "data": {
      "text/plain": [
       "<torch._C.Generator at 0x113998f90>"
      ]
     },
     "execution_count": 2,
     "metadata": {},
     "output_type": "execute_result"
    }
   ],
   "source": [
    "import torch\n",
    "\n",
    "# Random Number Generator\n",
    "ran_num_gen = torch.Generator()\n",
    "ran_num_gen.manual_seed(42)"
   ]
  },
  {
   "cell_type": "markdown",
   "metadata": {},
   "source": [
    "## Playground\n",
    "\n",
    "### Removing multiple elements at a time using masks\n",
    "\n",
    "Use pseudocode from Grégoire.\n",
    "\n",
    "```python\n",
    "# R is tensor of relevance scores\n",
    "# s is tensor of sorted relevance scores MRoF\n",
    "# 100 # elements to flip\n",
    "# a is flip value (uniformly sampled e.g.)\n",
    "s = sort(R)\n",
    "R[R>s[-100]] = a\n",
    "```"
   ]
  },
  {
   "cell_type": "code",
   "execution_count": 3,
   "metadata": {},
   "outputs": [
    {
     "name": "stdout",
     "output_type": "stream",
     "text": [
      "R:                tensor([2, 7, 6, 4, 6, 5, 0, 4, 0, 3])\n",
      "sorted R values:  tensor([7, 6, 6, 5, 4, 4, 3, 2, 0, 0])\n",
      "sorted R indices: tensor([1, 2, 4, 5, 3, 7, 9, 0, 6, 8])\n",
      "Bottom threshold to flip—i.e., all values >= 5 will be flipped.\n",
      "Elems. to flip: tensor([7, 6, 6, 5])\n",
      "Mask notation of elems. to flip: tensor([7, 6, 6, 5])\n"
     ]
    }
   ],
   "source": [
    "import torch\n",
    "\n",
    "ran_num_gen = torch.Generator()\n",
    "ran_num_gen.manual_seed(42)\n",
    "\n",
    "# Random relevance scores\n",
    "R = torch.randint(low=0, high=10, size=(10,), generator=ran_num_gen)\n",
    "print(f'R:                {R}')\n",
    "\n",
    "s_values, s_indices = R.sort(dim=-1, descending=True, stable=True)\n",
    "\n",
    "print(f'sorted R values:  {s_values}')\n",
    "print(f'sorted R indices: {s_indices}')\n",
    "\n",
    "n_flips = 4\n",
    "# n_flips-1 because indexing starts at 0\n",
    "print(f'Bottom threshold to flip—i.e., all values >= {s_values[n_flips-1]} will be flipped.')\n",
    "print(f'Elems. to flip: {s_values[:n_flips]}')\n",
    "print(f'Mask notation of elems. to flip: {R[R>s_values[n_flips]]}')"
   ]
  },
  {
   "cell_type": "markdown",
   "metadata": {},
   "source": [
    "### Compare fine-grained with two implementation types\n",
    "\n",
    "1. Using a mask to select the elements to flip\n",
    "1. Selecting the elements sequentially (in a loop)\n",
    "\n",
    "Tensor `R` is a tensor of relevance scores of size `N` with values between `RANDOM_LOW` and `RANDOM_HIGH`.\n",
    "We're going to flip `K` elements of this tensor and replace them by a single value from a uniform distribution."
   ]
  },
  {
   "cell_type": "markdown",
   "metadata": {},
   "source": [
    "#### Setup"
   ]
  },
  {
   "cell_type": "code",
   "execution_count": 4,
   "metadata": {},
   "outputs": [],
   "source": [
    "# Number of relevance scores in R\n",
    "N = 10\n",
    "# Number of flips\n",
    "K = 5\n",
    "# Parameters for random number generation\n",
    "SEED = 42\n",
    "RANDOM_LOW = 0\n",
    "RANDOM_HIGH = 100"
   ]
  },
  {
   "cell_type": "code",
   "execution_count": 5,
   "metadata": {},
   "outputs": [],
   "source": [
    "import torch\n",
    "\n",
    "torch_rng = torch.Generator()\n",
    "torch_rng.manual_seed(SEED)\n",
    "\n",
    "from numpy.random import default_rng\n",
    "\n",
    "numpy_rng = default_rng(seed=SEED)\n",
    "numpy_rng_flip_val = numpy_rng.uniform(low=RANDOM_LOW, high=RANDOM_HIGH)\n",
    "\n",
    "R = torch.randint(low=RANDOM_LOW, high=RANDOM_HIGH, size=(N,), generator=torch_rng)\n",
    "r_mask = R.clone().detach()\n",
    "r_seq = R.clone().detach()"
   ]
  },
  {
   "cell_type": "markdown",
   "metadata": {},
   "source": [
    "##### Sort relevance scores"
   ]
  },
  {
   "cell_type": "code",
   "execution_count": 6,
   "metadata": {},
   "outputs": [],
   "source": [
    "s_values, s_indices = R.sort(dim=-1, descending=True, stable=True)"
   ]
  },
  {
   "cell_type": "markdown",
   "metadata": {},
   "source": [
    "Debug"
   ]
  },
  {
   "cell_type": "code",
   "execution_count": 7,
   "metadata": {},
   "outputs": [
    {
     "name": "stdout",
     "output_type": "stream",
     "text": [
      "numpy_rng_flip_val: 77\n",
      "sorted R values:  tensor([76, 67, 50, 42, 35, 26, 24, 20, 14, 13])\n",
      "sorted R indices:  tensor([2, 1, 8, 0, 5, 4, 7, 6, 3, 9])\n",
      "elems. to flip: tensor([76, 67, 50, 42, 35])\n"
     ]
    }
   ],
   "source": [
    "print(f'numpy_rng_flip_val: {int(numpy_rng_flip_val)}')\n",
    "print(f'sorted R values:  {s_values}')\n",
    "print(f'sorted R indices:  {s_indices}')\n",
    "print(f'elems. to flip: {s_values[:K]}')"
   ]
  },
  {
   "cell_type": "markdown",
   "metadata": {},
   "source": [
    "#### Flip using mask"
   ]
  },
  {
   "cell_type": "code",
   "execution_count": 8,
   "metadata": {},
   "outputs": [
    {
     "name": "stdout",
     "output_type": "stream",
     "text": [
      "R before: tensor([42, 67, 76, 14, 26, 35, 20, 24, 50, 13])\n",
      "R after: tensor([77, 77, 77, 14, 26, 35, 20, 24, 77, 13])\n"
     ]
    }
   ],
   "source": [
    "print(f'R before: {r_mask}')\n",
    "r_mask[r_mask>s_values[n_flips]] = numpy_rng_flip_val\n",
    "print(f'R after: {r_mask}')"
   ]
  },
  {
   "cell_type": "markdown",
   "metadata": {},
   "source": [
    "#### Flip sequentially (in a loop)\n",
    "\n",
    "Caveat: If the flip value is larger than the highest relevance score, the loop only changes one single value.\n",
    "\n",
    "1. First iteration: Replace max. relevance score by flip value\n",
    "1. Second iteration: Replace second max. relevance score by flip value, but max. relevance score is now the flip value. Thus, no changes will be made."
   ]
  },
  {
   "cell_type": "code",
   "execution_count": 9,
   "metadata": {},
   "outputs": [
    {
     "name": "stdout",
     "output_type": "stream",
     "text": [
      "R before: tensor([42, 67, 76, 14, 26, 35, 20, 24, 50, 13])\n",
      "R after: tensor([42, 67, 77, 14, 26, 35, 20, 24, 50, 13])\n"
     ]
    }
   ],
   "source": [
    "print(f'R before: {r_seq}')\n",
    "\n",
    "for i in range(K):\n",
    "  # print(f'Step {i+1}\\n')\n",
    "\n",
    "  # 1. Sort by relevance\n",
    "  # Get indices of max value in relevance scores\n",
    "  r_max = (r_seq==torch.max(r_seq)).nonzero()\n",
    "  j = r_max.flatten().item()\n",
    "\n",
    "  r_seq[j] = numpy_rng_flip_val\n",
    "\n",
    "print(f'R after: {r_seq}')"
   ]
  }
 ],
 "metadata": {
  "interpreter": {
   "hash": "31f2aee4e71d21fbe5cf8b01ff0e069b9275f58929596ceb00d14d90e3e16cd6"
  },
  "kernelspec": {
   "display_name": "Python 3.8.9 64-bit",
   "language": "python",
   "name": "python3"
  },
  "language_info": {
   "codemirror_mode": {
    "name": "ipython",
    "version": 3
   },
   "file_extension": ".py",
   "mimetype": "text/x-python",
   "name": "python",
   "nbconvert_exporter": "python",
   "pygments_lexer": "ipython3",
   "version": "3.9.10"
  },
  "orig_nbformat": 4
 },
 "nbformat": 4,
 "nbformat_minor": 2
}
