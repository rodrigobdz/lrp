{
 "cells": [
  {
   "cell_type": "markdown",
   "metadata": {},
   "source": [
    "# MWE of ResNet50 with zennit\n",
    "\n",
    "Try to produce LRP-PF-AUC results with ResNet50 instead of VGG16.\n",
    "\n",
    "Steps:\n",
    "\n",
    "1. Use a different image with ResNet50\n",
    "1. Refactor code\n",
    "   1. Confirm compatibility of zennit's LRP results with own PixelFlipping algorithm\n",
    "   1. Rename variables to `_nchw` format\n",
    "   1. Use as many own functions as possible"
   ]
  },
  {
   "cell_type": "code",
   "execution_count": null,
   "metadata": {},
   "outputs": [],
   "source": [
    "%load_ext autoreload\n",
    "%autoreload 2"
   ]
  },
  {
   "cell_type": "markdown",
   "metadata": {},
   "source": [
    "## ResNet50"
   ]
  },
  {
   "cell_type": "code",
   "execution_count": 1,
   "metadata": {},
   "outputs": [
    {
     "name": "stdout",
     "output_type": "stream",
     "text": [
      "2.66506890811329e+25\n"
     ]
    }
   ],
   "source": [
    "import cv2\n",
    "import numpy\n",
    "import torch\n",
    "from torch.nn import AvgPool2d, Conv2d, Linear\n",
    "from torchvision.models import resnet50\n",
    "from zennit.composites import NameMapComposite\n",
    "from zennit.core import BasicHook, collect_leaves, stabilize\n",
    "from zennit.rules import Epsilon, Gamma, ZBox\n",
    "from zennit.torchvision import ResNetCanonizer\n",
    "\n",
    "\n",
    "# the LRP-Epsilon from the tutorial\n",
    "class GMontavonEpsilon(BasicHook):\n",
    "    def __init__(self, stabilize_epsilon=1e-6, epsilon=0.25):\n",
    "        super().__init__(\n",
    "            input_modifiers=[lambda input: input],\n",
    "            param_modifiers=[lambda param, _: param],\n",
    "            output_modifiers=[lambda output: output],\n",
    "            gradient_mapper=(lambda out_grad, outputs: out_grad / stabilize(\n",
    "                outputs[0] + epsilon * (outputs[0] ** 2).mean() ** .5, stabilize_epsilon)),\n",
    "            reducer=(lambda inputs, gradients: inputs[0] * gradients[0])\n",
    "        )\n",
    "\n",
    "# use the gpu if requested and available, else use the cpu\n",
    "device = torch.device('cuda:0' if torch.cuda.is_available() else 'cpu')\n",
    "\n",
    "\n",
    "class BatchNormalize:\n",
    "    def __init__(self, mean, std, device=None):\n",
    "        self.mean = torch.tensor(mean, device=device)[None, :, None, None]\n",
    "        self.std = torch.tensor(std, device=device)[None, :, None, None]\n",
    "\n",
    "    def __call__(self, tensor):\n",
    "        return (tensor - self.mean) / self.std\n",
    "\n",
    "\n",
    "# mean and std of ILSVRC2012 as computed for the torchvision models\n",
    "norm_fn = BatchNormalize((0.485, 0.456, 0.406),\n",
    "                         (0.229, 0.224, 0.225), device=device)\n",
    "batch_size = 1\n",
    "# the maximal input shape, needed for the ZBox rule\n",
    "shape = (batch_size, 3, 224, 224)\n",
    "\n",
    "# the highest and lowest pixel values for the ZBox rule\n",
    "low = norm_fn(torch.zeros(*shape, device=device))\n",
    "high = norm_fn(torch.ones(*shape, device=device))\n",
    "\n",
    "\n",
    "model = resnet50(pretrained=True)\n",
    "model.eval()\n",
    "\n",
    "# only these get rules, linear layers will be attributed by the gradient alone\n",
    "# target_types = (Conv2d, AvgPool2d)\n",
    "target_types = (Conv2d, AvgPool2d, Linear)\n",
    "# lookup module -> name\n",
    "child_name = {module: name for name, module in model.named_modules()}\n",
    "# the layers in sequential order without any containers etc.\n",
    "layers = list(enumerate(collect_leaves(model)))\n",
    "\n",
    "# list of tuples [([names..], rule)] as used by NameMapComposite\n",
    "name_map = [\n",
    "    ([child_name[module] for n, module in layers if n == 0 and isinstance(module, target_types)], ZBox(low=low, high=high)),\n",
    "    ([child_name[module] for n, module in layers if 1 <= n <= 16 and isinstance(module, target_types)], Gamma(0.25)),\n",
    "    ([child_name[module] for n, module in layers if 17 <= n <= 30 and isinstance(module, target_types)], GMontavonEpsilon(stabilize_epsilon=0, epsilon=0.25)),\n",
    "    ([child_name[module] for n, module in layers if 31 <= n and isinstance(module, target_types)], Epsilon(0)),\n",
    "]\n",
    "\n",
    "# look at the name_map and you will see that there is no layer for which the last condition holds\n",
    "# display(name_map)\n",
    "\n",
    "# create the composite from the name map\n",
    "composite = NameMapComposite(name_map, canonizers=[ResNetCanonizer()])\n",
    "\n",
    "R = None\n",
    "with composite.context(model) as modified_model:\n",
    "    # compute attribution\n",
    "    # Returns a numpy array in BGR color space, not RGB\n",
    "    img = cv2.imread('../../../data/castle.jpg')\n",
    "\n",
    "    # Convert from BGR to RGB color space\n",
    "    img = img[..., ::-1]\n",
    "\n",
    "    # img.shape is (224, 224, 3), where 3 corresponds to RGB channels\n",
    "    # Divide by 255 (max. RGB value) to normalize pixel values to [0,1]\n",
    "    img = img/255.0\n",
    "    \n",
    "    data = norm_fn(\n",
    "        torch.FloatTensor(\n",
    "            img[numpy.newaxis].transpose([0, 3, 1, 2])*1\n",
    "        )\n",
    "    )\n",
    "    data.requires_grad = True\n",
    "\n",
    "    output = modified_model(data)\n",
    "    output[0].max().backward()\n",
    "\n",
    "    # print absolute sum of attribution\n",
    "    print(data.grad.abs().sum().item())\n",
    "\n",
    "    R = data.grad\n",
    "\n",
    "    # relevance = numpy.array(R.sum(1).detach().cpu())\n",
    "    # amax = numpy.abs(relevance).max((1, 2), keepdims=True)\n",
    "    # print('amax', amax)\n",
    "    # relevance = (relevance + amax) / 2 / amax\n",
    "    # LRP.heatmap(relevance)\n",
    "\n",
    "    # LRP.heatmap(R)"
   ]
  },
  {
   "cell_type": "code",
   "execution_count": 2,
   "metadata": {},
   "outputs": [
    {
     "data": {
      "image/png": "[encoded data removed]",
      "text/plain": [
       "<PIL.Image.Image image mode=P size=224x224>"
      ]
     },
     "execution_count": 2,
     "metadata": {},
     "output_type": "execute_result"
    }
   ],
   "source": [
    "from zennit.image import imgify\n",
    "\n",
    "imgify(\n",
    "    R.detach().cpu().sum(1),\n",
    "    level=4.5,\n",
    "    symmetric=True,\n",
    "    grid=True,\n",
    "    cmap='seismic',\n",
    ")"
   ]
  }
 ],
 "metadata": {
  "interpreter": {
   "hash": "75ce43d651e7ed94697eb2e711875277eac8301956987ff4981f0cf80965cb87"
  },
  "kernelspec": {
   "display_name": "Python 3.9.13 ('venv': venv)",
   "language": "python",
   "name": "python3"
  },
  "language_info": {
   "codemirror_mode": {
    "name": "ipython",
    "version": 3
   },
   "file_extension": ".py",
   "mimetype": "text/x-python",
   "name": "python",
   "nbconvert_exporter": "python",
   "pygments_lexer": "ipython3",
   "version": "3.9.13"
  },
  "orig_nbformat": 4
 },
 "nbformat": 4,
 "nbformat_minor": 2
}
