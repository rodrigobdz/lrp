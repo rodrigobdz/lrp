{
 "cells": [
  {
   "cell_type": "markdown",
   "metadata": {},
   "source": [
    "# Reproduce numerical instability in ResNet-50 using zennit's LRP"
   ]
  },
  {
   "cell_type": "code",
   "execution_count": 3,
   "metadata": {},
   "outputs": [
    {
     "name": "stdout",
     "output_type": "stream",
     "text": [
      "755226.0625\n"
     ]
    },
    {
     "data": {
      "text/plain": [
       "tensor(False)"
      ]
     },
     "metadata": {},
     "output_type": "display_data"
    },
    {
     "name": "stdout",
     "output_type": "stream",
     "text": [
      "torch.return_types.aminmax(\n",
      "min=tensor(-7540.4922),\n",
      "max=tensor(2985.0886))\n"
     ]
    },
    {
     "data": {
      "image/png": "[encoded data removed]",
      "text/plain": [
       "<Figure size 432x288 with 1 Axes>"
      ]
     },
     "metadata": {
      "needs_background": "light"
     },
     "output_type": "display_data"
    }
   ],
   "source": [
    "import cv2\n",
    "import numpy\n",
    "import torch\n",
    "from matplotlib import pyplot as plt\n",
    "from torchvision.models import resnet50\n",
    "from zennit.composites import EpsilonGammaBox\n",
    "from zennit.image import imgify\n",
    "from zennit.torchvision import ResNetCanonizer\n",
    "\n",
    "# use the gpu if requested and available, else use the cpu\n",
    "device = torch.device('cuda:0' if torch.cuda.is_available() else 'cpu')\n",
    "\n",
    "\n",
    "class BatchNormalize:\n",
    "    def __init__(self, mean, std, device=None):\n",
    "        self.mean = torch.tensor(mean, device=device)[None, :, None, None]\n",
    "        self.std = torch.tensor(std, device=device)[None, :, None, None]\n",
    "\n",
    "    def __call__(self, tensor):\n",
    "        return (tensor - self.mean) / self.std\n",
    "\n",
    "\n",
    "# mean and std of ILSVRC2012 as computed for the torchvision models\n",
    "norm_fn = BatchNormalize((0.485, 0.456, 0.406),\n",
    "                         (0.229, 0.224, 0.225), device=device)\n",
    "\n",
    "batch_size = 1\n",
    "# the maximal input shape, needed for the ZBox rule\n",
    "shape = (batch_size, 3, 224, 224)\n",
    "\n",
    "# the highest and lowest pixel values for the ZBox rule\n",
    "low = norm_fn(torch.zeros(*shape, device=device))\n",
    "high = norm_fn(torch.ones(*shape, device=device))\n",
    "\n",
    "\n",
    "model = resnet50(pretrained=True)\n",
    "model.eval()\n",
    "\n",
    "# create the composite from the name map\n",
    "composite = EpsilonGammaBox(low=-high, high=high, canonizers=[ResNetCanonizer()])\n",
    "\n",
    "R = None\n",
    "with composite.context(model) as modified_model:\n",
    "    # compute attribution\n",
    "    # Returns a numpy array in BGR color space, not RGB\n",
    "    img = cv2.imread('../../../data/castle.jpg')\n",
    "\n",
    "\n",
    "    # Convert from BGR to RGB color space\n",
    "    img = img[..., ::-1]\n",
    "\n",
    "    # img.shape is (224, 224, 3), where 3 corresponds to RGB channels\n",
    "    # Divide by 255 (max. RGB value) to normalize pixel values to [0,1]\n",
    "    img = img/255.0\n",
    "    \n",
    "    data = norm_fn(\n",
    "        torch.FloatTensor(\n",
    "            img[numpy.newaxis].transpose([0, 3, 1, 2])*1\n",
    "        )\n",
    "    )\n",
    "    data.requires_grad = True\n",
    "\n",
    "    output = modified_model(data)\n",
    "    output[0].max().backward()\n",
    "\n",
    "    # print absolute sum of attribution\n",
    "    print(data.grad.abs().sum().item())\n",
    "\n",
    "    # relevance scores\n",
    "    R = data.grad\n",
    "\n",
    "    display(R.isnan().any())\n",
    "\n",
    "    # show maximum and minimum attribution\n",
    "    print(torch.aminmax(R))\n",
    "\n",
    "    heatmap = imgify(\n",
    "        R.detach().cpu().sum(1),\n",
    "        symmetric=True,\n",
    "        grid=True,\n",
    "        cmap='seismic',\n",
    "    )\n",
    "    \n",
    "    plt.imshow(heatmap)"
   ]
  }
 ],
 "metadata": {
  "interpreter": {
   "hash": "75ce43d651e7ed94697eb2e711875277eac8301956987ff4981f0cf80965cb87"
  },
  "kernelspec": {
   "display_name": "Python 3.9.13 ('venv': venv)",
   "language": "python",
   "name": "python3"
  },
  "language_info": {
   "codemirror_mode": {
    "name": "ipython",
    "version": 3
   },
   "file_extension": ".py",
   "mimetype": "text/x-python",
   "name": "python",
   "nbconvert_exporter": "python",
   "pygments_lexer": "ipython3",
   "version": "3.9.13"
  },
  "orig_nbformat": 4
 },
 "nbformat": 4,
 "nbformat_minor": 2
}
