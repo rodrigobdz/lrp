{
 "cells": [
  {
   "cell_type": "markdown",
   "metadata": {},
   "source": [
    "# Investigate numerical instability"
   ]
  },
  {
   "cell_type": "markdown",
   "metadata": {},
   "source": [
    "Minimal working example is the following rule-layer mapping:\n",
    "\n",
    "```python\n",
    "name_map = [\n",
    "    (filter_by_layer_index_type(lambda n: n == 0), LrpZBoxRule, {'low': low, 'high': high}),\n",
    "    (filter_by_layer_index_type(lambda n: 1 <= n <= 16), LrpGammaRule, {'gamma': 0}),\n",
    "    (filter_by_layer_index_type(lambda n: 17 <= n <= 30), LrpEpsilonRule, {'epsilon': 0.25}),\n",
    "    (filter_by_layer_index_type(lambda n: 31 <= n), LrpZeroRule, {}),\n",
    "]\n",
    "```\n",
    "\n",
    "The issue arises depending on the implementation of the [`stabilize`](https://github.com/rodrigobdz/lrp/blob/c163c519599d0dd1320e8ed8cab5daac1978fe20/lrp/zennit/core.py#L16-L25) method.\n",
    "\n",
    "The following implementations have been tested:\n",
    "\n",
    "```python\n",
    "epsilon: float = 0.1\n",
    "dividend: torch.Tensor = torch.Tensor([-epsilon, 5, -5, -10])\n",
    "# tensor([ -0.1000,   5.0000,  -5.0000, -10.0000])\n",
    "```\n",
    "\n",
    "1. **Heuristic:** Add epsilon to the absolute value of the dividend (zennit's) conserving the sign: \n",
    "\n",
    "    ```python\n",
    "    dividend + ((dividend == 0.).to(dividend) + dividend.sign()) * epsilon\n",
    "    ```\n",
    "\n",
    "    Example:\n",
    "\n",
    "    ```python\n",
    "    dividend + ((dividend == 0.).to(dividend) + dividend.sign()) * epsilon\n",
    "    # tensor([ -0.2000,   5.1000,  -5.1000, -10.1000])\n",
    "    ```\n",
    "\n",
    "2. **Heuristic:** Scale epsilon according to dividend's magnitude using quadratic mean\n",
    "    \n",
    "    ```python\n",
    "    dividend + epsilon * (dividend**2).mean()**.5 + 1e-9\n",
    "    ```\n",
    "\n",
    "    Example:\n",
    "\n",
    "    ```python\n",
    "    dividend + epsilon * (dividend**2).mean()**.5 + 1e-9\n",
    "    # tensor([ 0.5124,  5.6124, -4.3876, -9.3876])\n",
    "    ```\n",
    "\n",
    "3. Add epsilon to dividend without heuristics\n",
    "\n",
    "    ```python\n",
    "    dividend + epsilon\n",
    "    ```\n",
    "\n",
    "    Example:\n",
    "\n",
    "    ```python\n",
    "    dividend + epsilon\n",
    "    # tensor([ 0.0000,  5.1000, -4.9000, -9.9000])"
   ]
  },
  {
   "cell_type": "code",
   "execution_count": 1,
   "metadata": {},
   "outputs": [],
   "source": [
    "%load_ext autoreload\n",
    "%autoreload 2\n",
    "\n",
    "from typing import Callable\n",
    "import torchvision\n",
    "import numpy\n",
    "import torch\n",
    "from lrp import norm, image\n",
    "\n",
    "from lrp.rules import LrpZBoxRule, LrpGammaRule, LrpEpsilonRule, LrpZeroRule\n",
    "\n",
    "from typing import List, Dict, Union, Tuple\n",
    "from lrp.filter import LayerFilter\n",
    "from lrp.zennit.types import AvgPool, Linear\n",
    "import lrp.rules as rules\n",
    "\n",
    "from lrp.core import LRP\n",
    "\n",
    "import lrp.plot\n",
    "from matplotlib import pyplot as plt\n",
    "\n",
    "# Normalization\n",
    "norm_fn: Callable[[torch.Tensor], torch.Tensor] = norm.ILSVRC2012_BatchNorm()\n",
    "\n",
    "# Input data\n",
    "img_path = '../data/castle.jpg'\n",
    "img: numpy.array = image.load_normalized_img(img_path)\n",
    "X: torch.Tensor = norm_fn(image.img_to_tensor(img))\n",
    "\n",
    "# Model\n",
    "model = torchvision.models.vgg16(pretrained=True)\n",
    "model.eval()\n",
    "\n",
    "# Low and high parameters for zB-rule\n",
    "batch_size: int = 1\n",
    "shape: Tuple[int] = (batch_size, 3, 224, 224)\n",
    "\n",
    "low: torch.Tensor = norm_fn(torch.zeros(*shape))\n",
    "high: torch.Tensor = norm_fn(torch.ones(*shape))\n",
    "\n",
    "# Init layer filter\n",
    "vgg16_target_types: Tuple[type] = (Linear, AvgPool)\n",
    "filter_by_layer_index_type = LayerFilter(model)\n",
    "filter_by_layer_index_type.set_target_types(vgg16_target_types)\n",
    "\n",
    "name_map: List[Tuple[List[str], rules.LrpRule, Dict[str, Union[torch.Tensor, float]]]]"
   ]
  },
  {
   "cell_type": "code",
   "execution_count": 2,
   "metadata": {},
   "outputs": [
    {
     "name": "stdout",
     "output_type": "stream",
     "text": [
      "X GRAD HOOK  tensor([[[[ 1.1135e-04, -1.2826e-05, -1.6152e-04,  ..., -9.2264e-05,\n",
      "            7.5240e-06,  6.1116e-04],\n",
      "          [-5.6510e-05, -3.0193e-04, -3.1835e-04,  ..., -8.0655e-04,\n",
      "           -1.3462e-03, -2.0091e-04],\n",
      "          [-1.9299e-05, -3.1554e-04, -2.5667e-05,  ..., -5.8251e-04,\n",
      "           -1.0877e-03, -1.8791e-04],\n",
      "          ...,\n",
      "          [-2.3826e-04, -5.2308e-04,  1.8745e-04,  ...,  2.5364e-05,\n",
      "           -6.9975e-05, -5.7001e-05],\n",
      "          [ 2.3697e-04, -1.1156e-04, -4.6053e-05,  ...,  6.2753e-05,\n",
      "            6.4585e-06, -2.0462e-05],\n",
      "          [-3.2923e-04,  2.0810e-04, -3.1239e-04,  ..., -1.5858e-05,\n",
      "           -3.9945e-05, -3.6248e-05]],\n",
      "\n",
      "         [[ 2.3136e-04,  2.2097e-04, -1.4056e-04,  ...,  1.8411e-04,\n",
      "            7.8368e-04,  8.1663e-04],\n",
      "          [ 1.0772e-04,  4.9611e-05, -1.5611e-04,  ...,  2.8201e-04,\n",
      "            8.3490e-04,  8.7048e-04],\n",
      "          [-7.9400e-06, -1.7754e-04,  1.0220e-04,  ..., -3.3208e-04,\n",
      "            2.0407e-04,  4.4150e-04],\n",
      "          ...,\n",
      "          [-1.5619e-04, -4.9459e-04,  3.6118e-04,  ...,  1.9003e-05,\n",
      "           -7.7557e-05, -6.0921e-05],\n",
      "          [ 5.7929e-04,  2.1082e-04, -1.2603e-04,  ...,  9.3649e-05,\n",
      "            8.3090e-05,  4.1981e-05],\n",
      "          [-3.0067e-04,  4.6458e-04, -5.0623e-04,  ..., -6.2562e-06,\n",
      "           -3.7968e-06, -1.4199e-05]],\n",
      "\n",
      "         [[ 3.6029e-05,  1.6372e-04, -5.6115e-05,  ...,  3.7282e-04,\n",
      "            6.0882e-04,  2.6076e-04],\n",
      "          [ 5.5006e-05,  2.6736e-04,  6.9350e-05,  ...,  1.1818e-03,\n",
      "            1.6880e-03,  9.0593e-04],\n",
      "          [-1.2928e-05,  1.3906e-04,  1.8575e-04,  ...,  6.4499e-04,\n",
      "            1.3018e-03,  5.8544e-04],\n",
      "          ...,\n",
      "          [-5.6685e-05, -1.5571e-04,  2.6661e-04,  ...,  4.3546e-06,\n",
      "           -1.1917e-05, -1.4286e-05],\n",
      "          [ 2.7803e-04,  4.1764e-05, -2.0220e-05,  ...,  2.0060e-05,\n",
      "            5.2513e-05,  3.1547e-05],\n",
      "          [-1.1035e-04,  3.6210e-04, -1.9076e-04,  ..., -3.5607e-06,\n",
      "            1.2997e-05,  7.3787e-07]]]])\n"
     ]
    },
    {
     "data": {
      "image/png": "[encoded data removed]",
      "text/plain": [
       "<Figure size 432x288 with 1 Axes>"
      ]
     },
     "metadata": {
      "needs_background": "light"
     },
     "output_type": "display_data"
    }
   ],
   "source": [
    "name_map = [\n",
    "    (filter_by_layer_index_type(lambda n: n == 0), LrpZBoxRule, {'low': low, 'high': high}),\n",
    "    (filter_by_layer_index_type(lambda n: 1 <= n <= 16), LrpGammaRule, {'gamma': 0}),\n",
    "    (filter_by_layer_index_type(lambda n: 17 <= n <= 30), LrpEpsilonRule, {'epsilon': 0.25}),\n",
    "    (filter_by_layer_index_type(lambda n: 31 <= n), LrpZeroRule, {}),\n",
    "]\n",
    "\n",
    "lrp_example = LRP(model)\n",
    "lrp_example.convert_layers(name_map)\n",
    "\n",
    "R: torch.Tensor = lrp_example.relevance(X)\n",
    "\n",
    "fig, ax = plt.subplots()\n",
    "img: numpy.array = image.load_normalized_img(img_path)\n",
    "lrp.plot.heatmap(R[0].sum(dim=0).detach().numpy(), width=2, height=2, show_plot=False, fig=ax)\n",
    "# ax.imshow(img, alpha=0.09)\n",
    "# fig.savefig('/Users/rodrigobermudezschettino/Downloads/castle_lrp.png', dpi=150)"
   ]
  },
  {
   "cell_type": "code",
   "execution_count": 3,
   "metadata": {},
   "outputs": [
    {
     "name": "stdout",
     "output_type": "stream",
     "text": [
      "Total 50176\n",
      "negative 25042\n",
      "zero 0\n",
      "positive 25134\n"
     ]
    },
    {
     "data": {
      "text/plain": [
       "torch.return_types.aminmax(\n",
       "min=tensor(-18.4812),\n",
       "max=tensor(27.4871))"
      ]
     },
     "metadata": {},
     "output_type": "display_data"
    }
   ],
   "source": [
    "# dividend + epsilon\n",
    "a = R[0].sum(dim=0).detach()\n",
    "print('Total', torch.numel(a))\n",
    "print('negative', torch.numel(a[a < 0.]))\n",
    "print('zero', torch.numel(a[a == 0.]))\n",
    "print('positive', torch.numel(a[a > 0.]))\n",
    "\n",
    "display(torch.aminmax(a))"
   ]
  },
  {
   "cell_type": "code",
   "execution_count": 7,
   "metadata": {},
   "outputs": [
    {
     "name": "stdout",
     "output_type": "stream",
     "text": [
      "R torch.Size([1, 3, 224, 224])\n",
      "X torch.Size([1, 3, 224, 224])\n",
      "X.grad torch.Size([1, 3, 224, 224])\n",
      "\n",
      "\n",
      "R max indices: 1 155 194\n",
      "X max -1.895658254623413\n",
      "X.grad max -8.294060707092285\n",
      "R max 15.722704887390137\n",
      "\n",
      "\n",
      "R min indices: 0 146 187\n",
      "X min 1.1357992887496948\n",
      "X.grad min -6.980259895324707\n",
      "R min -7.928174018859863\n",
      "\n",
      "\n",
      "X.grad max indices: 0 1 149 199\n",
      "X max: -0.12745095789432526\n",
      "X.grad max: 6.668038368225098\n",
      "\n",
      "\n",
      "X.grad min indices: 0 1 155 194\n",
      "X min: -1.895658254623413\n",
      "X.grad min: -8.294060707092285\n"
     ]
    }
   ],
   "source": [
    "print(f'R {R.shape}')\n",
    "print(f'X {X.shape}')\n",
    "print(f'X.grad {X.grad.shape}')\n",
    "print('\\n')\n",
    "\n",
    "a = (R[0].detach()==torch.max(R[0].detach())).nonzero()\n",
    "i, h, k = a[0, :].tolist()\n",
    "\n",
    "print(f'R max indices: {i} {h} {k}')\n",
    "\n",
    "print(f'X max {X[0][i, h, k].item()}')\n",
    "print(f'X.grad max {X.grad[0][i, h, k].item()}')\n",
    "print(f'R max {R[0].detach()[i, h, k].item()}')\n",
    "\n",
    "print('\\n')\n",
    "\n",
    "a = (R[0].detach()==torch.min(R[0].detach())).nonzero()\n",
    "i, h, k = a[0, :].tolist()\n",
    "\n",
    "print(f'R min indices: {i} {h} {k}')\n",
    "\n",
    "print(f'X min {X[0][i, h, k].item()}')\n",
    "print(f'X.grad min {X.grad[0][i, h, k].item()}')\n",
    "print(f'R min {R[0].detach()[i, h, k].item()}')\n",
    "\n",
    "\n",
    "print('\\n')\n",
    "\n",
    "# print('X max')\n",
    "a = (X.grad==torch.max(X.grad)).nonzero()\n",
    "z, i, h, k = a[0, :].tolist()\n",
    "\n",
    "print(f'X.grad max indices: {z} {i} {h} {k}')\n",
    "print(f'X max: {X[z, i, h, k].item()}')\n",
    "print(f'X.grad max: {X.grad[z, i, h, k].item()}')\n",
    "\n",
    "# print('\\nX min')\n",
    "print('\\n')\n",
    "\n",
    "a = (X.grad==torch.min(X.grad)).nonzero()\n",
    "z, i, h, k = a[0, :].tolist()\n",
    "\n",
    "print(f'X.grad min indices: {z} {i} {h} {k}')\n",
    "print(f'X min: {X[z, i, h, k].item()}')\n",
    "print(f'X.grad min: {X.grad[z, i, h, k].item()}')\n"
   ]
  },
  {
   "cell_type": "code",
   "execution_count": 14,
   "metadata": {},
   "outputs": [
    {
     "name": "stdout",
     "output_type": "stream",
     "text": [
      "tensor(-8.2941)\n",
      "X min -1.895658254623413 X.grad min -8.294060707092285\n",
      "15.722704643747193\n",
      "torch.Size([3, 224, 224])\n"
     ]
    },
    {
     "data": {
      "text/plain": [
       "torch.return_types.aminmax(\n",
       "min=tensor(-7.9282),\n",
       "max=tensor(15.7227))"
      ]
     },
     "metadata": {},
     "output_type": "display_data"
    },
    {
     "name": "stdout",
     "output_type": "stream",
     "text": [
      "torch.Size([224, 224])\n"
     ]
    },
    {
     "data": {
      "text/plain": [
       "torch.return_types.aminmax(\n",
       "min=tensor(-18.4812),\n",
       "max=tensor(27.4871))"
      ]
     },
     "metadata": {},
     "output_type": "display_data"
    }
   ],
   "source": [
    "print(torch.min(X.grad))\n",
    "min_x_grad = (X.grad==torch.min(X.grad)).nonzero()\n",
    "z, i, h, k = min_x_grad[0, :].tolist()\n",
    "\n",
    "a = X[z, i, h, k].item()\n",
    "b = X.grad[z, i, h, k].item()\n",
    "print(f'X min {a} X.grad min {b}')\n",
    "print(a*b)\n",
    "\n",
    "r = R[0].detach()\n",
    "print(r.shape)\n",
    "display(torch.aminmax(r))\n",
    "\n",
    "r = R[0].sum(dim=0).detach()\n",
    "print(r.shape)\n",
    "display(torch.aminmax(r))\n",
    "\n",
    "# print(f'X.grad min indices: {z} {i} {h} {k}')\n",
    "# print(f'X min: {X[z, i, h, k].item()}')"
   ]
  },
  {
   "cell_type": "code",
   "execution_count": 5,
   "metadata": {},
   "outputs": [],
   "source": [
    "from torch.utils.tensorboard import SummaryWriter\n",
    "\n",
    "!rm -rf runs\n",
    "writer = SummaryWriter()\n",
    "writer.add_image('X.grad', X.grad[0])\n",
    "writer.add_image('X * X.grad',X[0]*X.grad[0])\n",
    "writer.close()"
   ]
  }
 ],
 "metadata": {
  "interpreter": {
   "hash": "75ce43d651e7ed94697eb2e711875277eac8301956987ff4981f0cf80965cb87"
  },
  "kernelspec": {
   "display_name": "Python 3.9.9 64-bit ('venv': venv)",
   "language": "python",
   "name": "python3"
  },
  "language_info": {
   "codemirror_mode": {
    "name": "ipython",
    "version": 3
   },
   "file_extension": ".py",
   "mimetype": "text/x-python",
   "name": "python",
   "nbconvert_exporter": "python",
   "pygments_lexer": "ipython3",
   "version": "3.9.9"
  },
  "orig_nbformat": 4
 },
 "nbformat": 4,
 "nbformat_minor": 2
}
