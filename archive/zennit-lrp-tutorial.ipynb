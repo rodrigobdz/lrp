{
 "cells": [
  {
   "cell_type": "markdown",
   "metadata": {},
   "source": [
    "# Zennit implementation of lrp-tutorial\n",
    "\n",
    "[Source](https://github.com/chr5tphr/zennit/issues/76#issuecomment-991009322)"
   ]
  },
  {
   "cell_type": "markdown",
   "metadata": {},
   "source": [
    "## Christopher J. Anders' original implementation"
   ]
  },
  {
   "cell_type": "code",
   "execution_count": 1,
   "metadata": {},
   "outputs": [
    {
     "name": "stdout",
     "output_type": "stream",
     "text": [
      "[(['features.0', 'features.2', 'features.5', 'features.7', 'features.10', 'features.12', 'features.14'], <zennit.rules.Gamma object at 0x110eb4070>), (['features.17', 'features.19', 'features.21', 'features.24', 'features.26', 'features.28'], <__main__.GMontavonEpsilon object at 0x11922f400>), ([], <zennit.rules.Epsilon object at 0x11922f4c0>)]\n",
      "2.6483840942382812\n"
     ]
    }
   ],
   "source": [
    "import torch\n",
    "from torch.nn import Conv2d, AvgPool2d\n",
    "from torchvision.models import vgg16\n",
    "\n",
    "from zennit.composites import NameMapComposite\n",
    "from zennit.core import BasicHook, collect_leaves, stabilize\n",
    "from zennit.rules import Gamma, Epsilon\n",
    "\n",
    "# the LRP-Epsilon from the tutorial\n",
    "class GMontavonEpsilon(BasicHook):\n",
    "    def __init__(self, epsilon=1e-6, delta=0.25):\n",
    "        super().__init__(\n",
    "            input_modifiers=[lambda input: input],\n",
    "            param_modifiers=[lambda param, _: param],\n",
    "            output_modifiers=[lambda output: output],\n",
    "            gradient_mapper=(lambda out_grad, outputs: out_grad / stabilize(outputs[0] + delta * (outputs[0] ** 2).mean() ** .5, epsilon)),\n",
    "            reducer=(lambda inputs, gradients: inputs[0] * gradients[0])\n",
    "        )\n",
    "\n",
    "model = vgg16()\n",
    "\n",
    "# only these get rules, linear layers will be attributed by the gradient alone\n",
    "target_types = (Conv2d, AvgPool2d)\n",
    "# lookup module -> name\n",
    "child_name = {module: name for name, module in model.named_modules()}\n",
    "# the layers in sequential order without any containers etc.\n",
    "layers = list(enumerate(collect_leaves(model)))\n",
    "\n",
    "# list of tuples [([names..], rule)] as used by NameMapComposite\n",
    "name_map = [\n",
    "    ([child_name[module] for n, module in layers if n <= 16 and isinstance(module, target_types)], Gamma(0.25)),\n",
    "    ([child_name[module] for n, module in layers if 17 <= n <= 30 and isinstance(module, target_types)], GMontavonEpsilon(1e-9, 0.25)),\n",
    "    ([child_name[module] for n, module in layers if 30 <= n and isinstance(module, target_types)], Epsilon(1e-9)),\n",
    "]\n",
    "# look at the name_map and you will see that there is no layer for which the last condition holds\n",
    "print(name_map)\n",
    "\n",
    "# create the composite from the name map\n",
    "composite = NameMapComposite(name_map)\n",
    "\n",
    "with composite.context(model) as modified_model:\n",
    "    # compute attribution\n",
    "    data = torch.randn(1, 3, 224, 224, requires_grad=True)\n",
    "    output = modified_model(data)\n",
    "    output.backward(torch.eye(1000)[[0]])\n",
    "    # print absolute sum of attribution\n",
    "    print(data.grad.abs().sum().item())"
   ]
  },
  {
   "cell_type": "markdown",
   "metadata": {},
   "source": [
    "### With heatmap"
   ]
  },
  {
   "cell_type": "code",
   "execution_count": 6,
   "metadata": {},
   "outputs": [
    {
     "name": "stdout",
     "output_type": "stream",
     "text": [
      "[(['features.0', 'features.2', 'features.5', 'features.7', 'features.10', 'features.12', 'features.14'], <zennit.rules.Gamma object at 0x110eb6460>), (['features.17', 'features.19', 'features.21', 'features.24', 'features.26', 'features.28'], <__main__.GMontavonEpsilon object at 0x110eb4310>), ([], <zennit.rules.Epsilon object at 0x126b454f0>)]\n",
      "9.954010009765625\n"
     ]
    },
    {
     "data": {
      "image/png": "[encoded data removed]",
      "text/plain": [
       "<Figure size 288x288 with 1 Axes>"
      ]
     },
     "metadata": {
      "needs_background": "light"
     },
     "output_type": "display_data"
    }
   ],
   "source": [
    "import torch\n",
    "from torch.nn import Conv2d, AvgPool2d\n",
    "from torchvision.models import vgg16\n",
    "\n",
    "from zennit.composites import NameMapComposite\n",
    "from zennit.core import BasicHook, collect_leaves, stabilize\n",
    "from zennit.rules import Gamma, Epsilon\n",
    "\n",
    "import cv2\n",
    "import numpy\n",
    "import utils\n",
    "\n",
    "# the LRP-Epsilon from the tutorial\n",
    "class GMontavonEpsilon(BasicHook):\n",
    "    def __init__(self, epsilon=1e-6, delta=0.25):\n",
    "        super().__init__(\n",
    "            input_modifiers=[lambda input: input],\n",
    "            param_modifiers=[lambda param, _: param],\n",
    "            output_modifiers=[lambda output: output],\n",
    "            gradient_mapper=(lambda out_grad, outputs: out_grad / stabilize(outputs[0] + delta * (outputs[0] ** 2).mean() ** .5, epsilon)),\n",
    "            reducer=(lambda inputs, gradients: inputs[0] * gradients[0])\n",
    "        )\n",
    "\n",
    "model = vgg16()\n",
    "\n",
    "class BatchNormalize:\n",
    "    def __init__(self, mean, std, device=None):\n",
    "        self.mean = torch.tensor(mean, device=device)[None, :, None, None]\n",
    "        self.std = torch.tensor(std, device=device)[None, :, None, None]\n",
    "\n",
    "    def __call__(self, tensor):\n",
    "        return (tensor - self.mean) / self.std\n",
    "\n",
    "\n",
    "# mean and std of ILSVRC2012 as computed for the torchvision models\n",
    "norm_fn = BatchNormalize((0.485, 0.456, 0.406),\n",
    "                         (0.229, 0.224, 0.225), device='cpu')\n",
    "\n",
    "# only these get rules, linear layers will be attributed by the gradient alone\n",
    "target_types = (Conv2d, AvgPool2d)\n",
    "# lookup module -> name\n",
    "child_name = {module: name for name, module in model.named_modules()}\n",
    "# the layers in sequential order without any containers etc.\n",
    "layers = list(enumerate(collect_leaves(model)))\n",
    "\n",
    "# list of tuples [([names..], rule)] as used by NameMapComposite\n",
    "name_map = [\n",
    "    ([child_name[module] for n, module in layers if n <= 16 and isinstance(module, target_types)], Gamma(0.25)),\n",
    "    ([child_name[module] for n, module in layers if 17 <= n <= 30 and isinstance(module, target_types)], GMontavonEpsilon(1e-9, 0.25)),\n",
    "    ([child_name[module] for n, module in layers if 30 <= n and isinstance(module, target_types)], Epsilon(1e-9)),\n",
    "]\n",
    "# look at the name_map and you will see that there is no layer for which the last condition holds\n",
    "print(name_map)\n",
    "\n",
    "# create the composite from the name map\n",
    "composite = NameMapComposite(name_map)\n",
    "\n",
    "with composite.context(model) as modified_model:\n",
    "    # compute attribution\n",
    "    # Returns a numpy array in BGR color space, not RGB\n",
    "    img = cv2.imread('castle.jpg')\n",
    "\n",
    "    # Convert from BGR to RGB color space\n",
    "    img = img[..., ::-1]\n",
    "\n",
    "    # img.shape is (224, 224, 3), where 3 corresponds to RGB channels\n",
    "    # Divide by 255 (max. RGB value) to normalize pixel values to [0,1]\n",
    "    img = img/255.0\n",
    "    \n",
    "    data = norm_fn(\n",
    "        torch.FloatTensor(\n",
    "            img[numpy.newaxis].transpose([0, 3, 1, 2])*1\n",
    "        )\n",
    "    )\n",
    "    data.requires_grad = True\n",
    "\n",
    "    output = modified_model(data)\n",
    "    output[0].max().backward()\n",
    "\n",
    "    # print absolute sum of attribution\n",
    "    print(data.grad.abs().sum().item())\n",
    "\n",
    "    R = data.grad\n",
    "\n",
    "    utils.heatmap(R[0].sum(dim=0).detach().numpy(), 4,4)"
   ]
  },
  {
   "cell_type": "markdown",
   "metadata": {},
   "source": [
    "## Rodrigo's implementation"
   ]
  },
  {
   "cell_type": "code",
   "execution_count": 3,
   "metadata": {},
   "outputs": [
    {
     "data": {
      "text/plain": [
       "[(['features.0'], <zennit.rules.ZBox at 0x110ebba60>),\n",
       " (['features.2',\n",
       "   'features.5',\n",
       "   'features.7',\n",
       "   'features.10',\n",
       "   'features.12',\n",
       "   'features.14'],\n",
       "  <zennit.rules.Gamma at 0x110e52940>),\n",
       " (['features.17',\n",
       "   'features.19',\n",
       "   'features.21',\n",
       "   'features.24',\n",
       "   'features.26',\n",
       "   'features.28'],\n",
       "  <__main__.GMontavonEpsilon at 0x110e52910>),\n",
       " (['classifier.0', 'classifier.3', 'classifier.6'],\n",
       "  <zennit.rules.Epsilon at 0x126b45670>)]"
      ]
     },
     "metadata": {},
     "output_type": "display_data"
    },
    {
     "name": "stdout",
     "output_type": "stream",
     "text": [
      "0.24230265617370605\n"
     ]
    },
    {
     "data": {
      "image/png": "[encoded data removed]",
      "text/plain": [
       "<Figure size 288x288 with 1 Axes>"
      ]
     },
     "metadata": {
      "needs_background": "light"
     },
     "output_type": "display_data"
    }
   ],
   "source": [
    "import torch\n",
    "from torch.nn import Conv2d, AvgPool2d, Linear\n",
    "from torchvision.models import vgg16\n",
    "\n",
    "from zennit.composites import NameMapComposite\n",
    "from zennit.core import BasicHook, collect_leaves, stabilize\n",
    "from zennit.rules import Gamma, Epsilon, ZBox\n",
    "\n",
    "import cv2\n",
    "import numpy\n",
    "import utils\n",
    "\n",
    "# the LRP-Epsilon from the tutorial\n",
    "class GMontavonEpsilon(BasicHook):\n",
    "    def __init__(self, stabilize_epsilon=1e-6, epsilon=0.25):\n",
    "        super().__init__(\n",
    "            input_modifiers=[lambda input: input],\n",
    "            param_modifiers=[lambda param, _: param],\n",
    "            output_modifiers=[lambda output: output],\n",
    "            gradient_mapper=(lambda out_grad, outputs: out_grad / stabilize(\n",
    "                outputs[0] + epsilon * (outputs[0] ** 2).mean() ** .5, stabilize_epsilon)),\n",
    "            reducer=(lambda inputs, gradients: inputs[0] * gradients[0])\n",
    "        )\n",
    "\n",
    "# use the gpu if requested and available, else use the cpu\n",
    "device = torch.device('cuda:0' if torch.cuda.is_available() else 'cpu')\n",
    "\n",
    "\n",
    "class BatchNormalize:\n",
    "    def __init__(self, mean, std, device=None):\n",
    "        self.mean = torch.tensor(mean, device=device)[None, :, None, None]\n",
    "        self.std = torch.tensor(std, device=device)[None, :, None, None]\n",
    "\n",
    "    def __call__(self, tensor):\n",
    "        return (tensor - self.mean) / self.std\n",
    "\n",
    "\n",
    "# mean and std of ILSVRC2012 as computed for the torchvision models\n",
    "norm_fn = BatchNormalize((0.485, 0.456, 0.406),\n",
    "                         (0.229, 0.224, 0.225), device=device)\n",
    "batch_size = 1\n",
    "# the maximal input shape, needed for the ZBox rule\n",
    "shape = (batch_size, 3, 224, 224)\n",
    "\n",
    "# the highest and lowest pixel values for the ZBox rule\n",
    "low = norm_fn(torch.zeros(*shape, device=device))\n",
    "high = norm_fn(torch.ones(*shape, device=device))\n",
    "\n",
    "\n",
    "model = vgg16(pretrained=True)\n",
    "model.eval()\n",
    "\n",
    "# only these get rules, linear layers will be attributed by the gradient alone\n",
    "# target_types = (Conv2d, AvgPool2d)\n",
    "target_types = (Conv2d, AvgPool2d, Linear)\n",
    "# lookup module -> name\n",
    "child_name = {module: name for name, module in model.named_modules()}\n",
    "# the layers in sequential order without any containers etc.\n",
    "layers = list(enumerate(collect_leaves(model)))\n",
    "\n",
    "# list of tuples [([names..], rule)] as used by NameMapComposite\n",
    "name_map = [\n",
    "    ([child_name[module] for n, module in layers if n == 0 and isinstance(module, target_types)], ZBox(low=low, high=high)),\n",
    "    ([child_name[module] for n, module in layers if 1 <= n <= 16 and isinstance(module, target_types)], Gamma(0.25)),\n",
    "    ([child_name[module] for n, module in layers if 17 <= n <= 30 and isinstance(module, target_types)], GMontavonEpsilon(stabilize_epsilon=0, epsilon=0.25)),\n",
    "    ([child_name[module] for n, module in layers if 31 <= n and isinstance(module, target_types)], Epsilon(0)),\n",
    "]\n",
    "\n",
    "# look at the name_map and you will see that there is no layer for which the last condition holds\n",
    "display(name_map)\n",
    "\n",
    "# create the composite from the name map\n",
    "composite = NameMapComposite(name_map)\n",
    "\n",
    "R = None\n",
    "with composite.context(model) as modified_model:\n",
    "    # compute attribution\n",
    "    # Returns a numpy array in BGR color space, not RGB\n",
    "    img = cv2.imread('castle.jpg')\n",
    "\n",
    "    # Convert from BGR to RGB color space\n",
    "    img = img[..., ::-1]\n",
    "\n",
    "    # img.shape is (224, 224, 3), where 3 corresponds to RGB channels\n",
    "    # Divide by 255 (max. RGB value) to normalize pixel values to [0,1]\n",
    "    img = img/255.0\n",
    "    \n",
    "    data = norm_fn(\n",
    "        torch.FloatTensor(\n",
    "            img[numpy.newaxis].transpose([0, 3, 1, 2])*1\n",
    "        )\n",
    "    )\n",
    "    data.requires_grad = True\n",
    "\n",
    "    output = modified_model(data)\n",
    "    output[0].max().backward()\n",
    "\n",
    "    # print absolute sum of attribution\n",
    "    print(data.grad.abs().sum().item())\n",
    "\n",
    "    R = data.grad\n",
    "\n",
    "    utils.heatmap(R[0].sum(dim=0).detach().numpy(), 4,4)\n"
   ]
  },
  {
   "cell_type": "code",
   "execution_count": 4,
   "metadata": {},
   "outputs": [
    {
     "name": "stdout",
     "output_type": "stream",
     "text": [
      "Conv2d(3, 64, kernel_size=(3, 3), stride=(1, 1), padding=(1, 1))\n",
      "ReLU(inplace=True)\n",
      "Conv2d(64, 64, kernel_size=(3, 3), stride=(1, 1), padding=(1, 1))\n",
      "ReLU(inplace=True)\n",
      "MaxPool2d(kernel_size=2, stride=2, padding=0, dilation=1, ceil_mode=False)\n",
      "Conv2d(64, 128, kernel_size=(3, 3), stride=(1, 1), padding=(1, 1))\n",
      "ReLU(inplace=True)\n",
      "Conv2d(128, 128, kernel_size=(3, 3), stride=(1, 1), padding=(1, 1))\n",
      "ReLU(inplace=True)\n",
      "MaxPool2d(kernel_size=2, stride=2, padding=0, dilation=1, ceil_mode=False)\n",
      "Conv2d(128, 256, kernel_size=(3, 3), stride=(1, 1), padding=(1, 1))\n",
      "ReLU(inplace=True)\n",
      "Conv2d(256, 256, kernel_size=(3, 3), stride=(1, 1), padding=(1, 1))\n",
      "ReLU(inplace=True)\n",
      "Conv2d(256, 256, kernel_size=(3, 3), stride=(1, 1), padding=(1, 1))\n",
      "ReLU(inplace=True)\n",
      "MaxPool2d(kernel_size=2, stride=2, padding=0, dilation=1, ceil_mode=False)\n",
      "Conv2d(256, 512, kernel_size=(3, 3), stride=(1, 1), padding=(1, 1))\n",
      "ReLU(inplace=True)\n",
      "Conv2d(512, 512, kernel_size=(3, 3), stride=(1, 1), padding=(1, 1))\n",
      "ReLU(inplace=True)\n",
      "Conv2d(512, 512, kernel_size=(3, 3), stride=(1, 1), padding=(1, 1))\n",
      "ReLU(inplace=True)\n",
      "MaxPool2d(kernel_size=2, stride=2, padding=0, dilation=1, ceil_mode=False)\n",
      "Conv2d(512, 512, kernel_size=(3, 3), stride=(1, 1), padding=(1, 1))\n",
      "ReLU(inplace=True)\n",
      "Conv2d(512, 512, kernel_size=(3, 3), stride=(1, 1), padding=(1, 1))\n",
      "ReLU(inplace=True)\n",
      "Conv2d(512, 512, kernel_size=(3, 3), stride=(1, 1), padding=(1, 1))\n",
      "ReLU(inplace=True)\n",
      "MaxPool2d(kernel_size=2, stride=2, padding=0, dilation=1, ceil_mode=False)\n",
      "AdaptiveAvgPool2d(output_size=(7, 7))\n",
      "Linear(in_features=25088, out_features=4096, bias=True)\n",
      "ReLU(inplace=True)\n",
      "Dropout(p=0.5, inplace=False)\n",
      "Linear(in_features=4096, out_features=4096, bias=True)\n",
      "ReLU(inplace=True)\n",
      "Dropout(p=0.5, inplace=False)\n",
      "Linear(in_features=4096, out_features=1000, bias=True)\n",
      "0 features.0\n",
      "1 features.1\n",
      "2 features.2\n",
      "3 features.3\n",
      "4 features.4\n",
      "5 features.5\n",
      "6 features.6\n",
      "7 features.7\n",
      "8 features.8\n",
      "9 features.9\n",
      "10 features.10\n",
      "11 features.11\n",
      "12 features.12\n",
      "13 features.13\n",
      "14 features.14\n",
      "15 features.15\n",
      "16 features.16\n",
      "17 features.17\n",
      "18 features.18\n",
      "19 features.19\n",
      "20 features.20\n",
      "21 features.21\n",
      "22 features.22\n",
      "23 features.23\n",
      "24 features.24\n",
      "25 features.25\n",
      "26 features.26\n",
      "27 features.27\n",
      "28 features.28\n",
      "29 features.29\n",
      "30 features.30\n",
      "31 avgpool\n",
      "32 classifier.0\n",
      "33 classifier.1\n",
      "34 classifier.2\n",
      "35 classifier.3\n",
      "36 classifier.4\n",
      "37 classifier.5\n",
      "38 classifier.6\n"
     ]
    }
   ],
   "source": [
    "print(*list(zip(*layers))[1], sep='\\n')\n",
    "for n, module in layers:\n",
    "  print(f'{n} {child_name[module]}')"
   ]
  },
  {
   "cell_type": "markdown",
   "metadata": {},
   "source": [
    "## Zennit's heatmapping function"
   ]
  },
  {
   "cell_type": "code",
   "execution_count": 5,
   "metadata": {},
   "outputs": [
    {
     "data": {
      "image/png": "[encoded data removed]",
      "text/plain": [
       "<PIL.Image.Image image mode=P size=224x224 at 0x1195656D0>"
      ]
     },
     "execution_count": 5,
     "metadata": {},
     "output_type": "execute_result"
    }
   ],
   "source": [
    "from zennit.image import imgify\n",
    "\n",
    "\n",
    "# sum over the color channels\n",
    "heatmap = R.sum(dim=1)\n",
    "# get the absolute maximum, to center the heat map around 0\n",
    "amax = heatmap.abs().detach().numpy().max((1, 2))\n",
    "\n",
    "# save heat map with color map 'coldnhot'\n",
    "imgify(\n",
    "    heatmap[0].detach().numpy(),\n",
    "    vmin=-amax,\n",
    "    vmax=amax,\n",
    "    cmap='coldnhot',\n",
    "    level=1.0\n",
    ")"
   ]
  }
 ],
 "metadata": {
  "interpreter": {
   "hash": "0431170e0a69c05b0d16d782151a0ffea81a7c290afc025c33023a7a723c05b4"
  },
  "kernelspec": {
   "display_name": "Python 3.9.9 64-bit ('venv': venv)",
   "language": "python",
   "name": "python3"
  },
  "language_info": {
   "codemirror_mode": {
    "name": "ipython",
    "version": 3
   },
   "file_extension": ".py",
   "mimetype": "text/x-python",
   "name": "python",
   "nbconvert_exporter": "python",
   "pygments_lexer": "ipython3",
   "version": "3.9.9"
  },
  "orig_nbformat": 4
 },
 "nbformat": 4,
 "nbformat_minor": 2
}
