{
 "cells": [
  {
   "cell_type": "markdown",
   "metadata": {},
   "source": [
    "# Tutorial: Implementing Layer-Wise Relevance Propagation for MNIST using JAX"
   ]
  },
  {
   "cell_type": "code",
   "execution_count": 1,
   "metadata": {},
   "outputs": [
    {
     "data": {
      "image/png": "[encoded data removed]",
      "text/plain": [
       "<Figure size 648x54 with 1 Axes>"
      ]
     },
     "metadata": {
      "needs_background": "light"
     },
     "output_type": "display_data"
    }
   ],
   "source": [
    "import utils\n",
    "# X has dimensions (12, 784), 12 digits, each with 784 (28*28) pixel values\n",
    "# T has dimensions (12,), each row/element corresponds to the ground-truth label (0-9) of the digit in X\n",
    "X,T = utils.loaddata()\n",
    "%matplotlib inline\n",
    "utils.digit(X.reshape(1,12,28,28).transpose(0,2,1,3).reshape(28,12*28),9,0.75)"
   ]
  },
  {
   "cell_type": "code",
   "execution_count": 2,
   "metadata": {},
   "outputs": [],
   "source": [
    "# Load network weights and biases\n",
    "#\n",
    "# Weights vector has dimensions ((784, 300), (300, 100), (100, 10)), which corresponds to a\n",
    "# fully connected network with 784 input nodes, 300 and 100 hidden nodes, and 10 output nodes.\n",
    "#\n",
    "# Biases vector has dimensions ((300,), (100,), (10,))\n",
    "W,B = utils.loadparams()\n",
    "# Length of weights vector is 3\n",
    "L = len(W)"
   ]
  },
  {
   "cell_type": "code",
   "execution_count": 3,
   "metadata": {},
   "outputs": [
    {
     "name": "stderr",
     "output_type": "stream",
     "text": [
      "WARNING:absl:No GPU/TPU found, falling back to CPU. (Set TF_CPP_MIN_LOG_LEVEL=0 and rerun for more info.)\n"
     ]
    }
   ],
   "source": [
    "import jax.numpy as jnp\n",
    "\n",
    "# All activations for all layers in one matrix\n",
    "# Twelve times, one for each image of a digit\n",
    "#\n",
    "# A has dimensions ((12, 784), (12, 300), (12, 100), (12, 10))\n",
    "A = [X]+[None]*L\n",
    "for l in range(L):\n",
    "    # maximum(0, A) corresponds to the ReLU activation function\n",
    "    A[l+1] = jnp.maximum(0,A[l].dot(W[l])+B[l])"
   ]
  }
 ],
 "metadata": {
  "interpreter": {
   "hash": "0431170e0a69c05b0d16d782151a0ffea81a7c290afc025c33023a7a723c05b4"
  },
  "kernelspec": {
   "display_name": "Python 3.9.9 64-bit ('venv': venv)",
   "language": "python",
   "name": "python3"
  },
  "language_info": {
   "codemirror_mode": {
    "name": "ipython",
    "version": 3
   },
   "file_extension": ".py",
   "mimetype": "text/x-python",
   "name": "python",
   "nbconvert_exporter": "python",
   "pygments_lexer": "ipython3",
   "version": "3.9.9"
  },
  "orig_nbformat": 4
 },
 "nbformat": 4,
 "nbformat_minor": 2
}
