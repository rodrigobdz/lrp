{
 "cells": [
  {
   "cell_type": "markdown",
   "metadata": {},
   "source": [
    "# LRP\n",
    "\n",
    "Implementation of Layer-wise Relevance Propagation (LRP) in PyTorch.\n",
    "\n",
    "Note:\n",
    "Max-pooling layers are handled using the winner-takes-all strategy and not the sum-pooling-layer-rules strategy."
   ]
  },
  {
   "cell_type": "markdown",
   "metadata": {},
   "source": [
    "## Setup\n",
    "\n",
    "Load model and input data."
   ]
  },
  {
   "cell_type": "code",
   "execution_count": 1,
   "metadata": {},
   "outputs": [],
   "source": [
    "from typing import Callable\n",
    "import torchvision\n",
    "import numpy\n",
    "import torch\n",
    "from lrp import norm, image\n",
    "\n",
    "# Normalization\n",
    "norm_fn: Callable[[torch.Tensor], torch.Tensor] = norm.ILSVRC2012_BatchNorm()\n",
    "\n",
    "# Input data\n",
    "img: numpy.array = image.load_normalized_img('castle.jpg')\n",
    "X: torch.Tensor = norm_fn(image.img_to_tensor(img))\n",
    "\n",
    "# Model\n",
    "model = torchvision.models.vgg16(pretrained=True)\n",
    "model.eval()\n",
    "\n",
    "# Omit printing the model\n",
    "None"
   ]
  },
  {
   "cell_type": "markdown",
   "metadata": {},
   "source": [
    "Variables for $z^\\mathcal{B}$-Rule"
   ]
  },
  {
   "cell_type": "code",
   "execution_count": 2,
   "metadata": {},
   "outputs": [],
   "source": [
    "from typing import Tuple\n",
    "\n",
    "# Low and high parameters for zB-rule\n",
    "batch_size: int = 1\n",
    "shape: Tuple[int] = (batch_size, 3, 224, 224)\n",
    "\n",
    "low: torch.Tensor = norm_fn(torch.zeros(*shape))\n",
    "high: torch.Tensor = norm_fn(torch.ones(*shape))"
   ]
  },
  {
   "cell_type": "markdown",
   "metadata": {},
   "source": [
    "## Rule-Layer Mapping\n",
    "\n",
    "Define helpers for mapping rules to layers."
   ]
  },
  {
   "cell_type": "code",
   "execution_count": 3,
   "metadata": {},
   "outputs": [],
   "source": [
    "from lrp.rules import LrpZBoxRule, LrpGammaRule, LrpEpsilonRule, LrpZeroRule\n",
    "\n",
    "from typing import List, Dict, Union, Tuple\n",
    "from lrp.filter import LayerFilter\n",
    "from lrp.zennit.types import AvgPool, Linear\n",
    "import lrp.rules as rules\n",
    "\n",
    "# Init layer filter\n",
    "vgg16_target_types: Tuple[type] = (Linear, AvgPool)\n",
    "filter_by_layer_index_type = LayerFilter(model)\n",
    "filter_by_layer_index_type.set_target_types(vgg16_target_types)\n",
    "\n",
    "# Rule-Layer Mapping\n",
    "name_map: List[Tuple[List[str], rules.LrpRule, Dict[str, Union[torch.Tensor, float]]]]\n",
    "name_map = [\n",
    "    (filter_by_layer_index_type(lambda n: n == 0), LrpZBoxRule, {'low': low, 'high': high}),\n",
    "    (filter_by_layer_index_type(lambda n: 1 <= n <= 16), LrpGammaRule, {'gamma': 0.25}),\n",
    "    (filter_by_layer_index_type(lambda n: 17 <= n <= 30), LrpEpsilonRule, {'epsilon': 0.25}),\n",
    "    (filter_by_layer_index_type(lambda n: 31 <= n), LrpZeroRule, {}),\n",
    "]"
   ]
  },
  {
   "cell_type": "markdown",
   "metadata": {},
   "source": [
    "## Heatmap"
   ]
  },
  {
   "cell_type": "code",
   "execution_count": 4,
   "metadata": {},
   "outputs": [
    {
     "data": {
      "image/png": "[encoded data removed]",
      "text/plain": [
       "<Figure size 200x200 with 1 Axes>"
      ]
     },
     "metadata": {
      "needs_background": "light"
     },
     "output_type": "display_data"
    }
   ],
   "source": [
    "from lrp.core import LRP\n",
    "\n",
    "lrp = LRP(model)\n",
    "lrp.convert_layers(name_map)\n",
    "R: torch.Tensor = lrp.relevance(X)\n",
    "lrp.heatmap(R, width=2, height=2)"
   ]
  },
  {
   "cell_type": "markdown",
   "metadata": {},
   "source": [
    "## Debug Mapping"
   ]
  },
  {
   "cell_type": "code",
   "execution_count": 5,
   "metadata": {},
   "outputs": [
    {
     "data": {
      "text/plain": [
       "VGG(\n",
       "  (features): Sequential(\n",
       "    (0): LrpZBoxRule(\n",
       "      (layer): Conv2d(3, 64, kernel_size=(3, 3), stride=(1, 1), padding=(1, 1))\n",
       "      (low_layer): Conv2d(3, 64, kernel_size=(3, 3), stride=(1, 1), padding=(1, 1))\n",
       "      (high_layer): Conv2d(3, 64, kernel_size=(3, 3), stride=(1, 1), padding=(1, 1))\n",
       "    )\n",
       "    (1): ReLU(inplace=True)\n",
       "    (2): LrpGammaRule(\n",
       "      (layer): Conv2d(64, 64, kernel_size=(3, 3), stride=(1, 1), padding=(1, 1))\n",
       "      (copy_layer): Conv2d(64, 64, kernel_size=(3, 3), stride=(1, 1), padding=(1, 1))\n",
       "    )\n",
       "    (3): ReLU(inplace=True)\n",
       "    (4): MaxPool2d(kernel_size=2, stride=2, padding=0, dilation=1, ceil_mode=False)\n",
       "    (5): LrpGammaRule(\n",
       "      (layer): Conv2d(64, 128, kernel_size=(3, 3), stride=(1, 1), padding=(1, 1))\n",
       "      (copy_layer): Conv2d(64, 128, kernel_size=(3, 3), stride=(1, 1), padding=(1, 1))\n",
       "    )\n",
       "    (6): ReLU(inplace=True)\n",
       "    (7): LrpGammaRule(\n",
       "      (layer): Conv2d(128, 128, kernel_size=(3, 3), stride=(1, 1), padding=(1, 1))\n",
       "      (copy_layer): Conv2d(128, 128, kernel_size=(3, 3), stride=(1, 1), padding=(1, 1))\n",
       "    )\n",
       "    (8): ReLU(inplace=True)\n",
       "    (9): MaxPool2d(kernel_size=2, stride=2, padding=0, dilation=1, ceil_mode=False)\n",
       "    (10): LrpGammaRule(\n",
       "      (layer): Conv2d(128, 256, kernel_size=(3, 3), stride=(1, 1), padding=(1, 1))\n",
       "      (copy_layer): Conv2d(128, 256, kernel_size=(3, 3), stride=(1, 1), padding=(1, 1))\n",
       "    )\n",
       "    (11): ReLU(inplace=True)\n",
       "    (12): LrpGammaRule(\n",
       "      (layer): Conv2d(256, 256, kernel_size=(3, 3), stride=(1, 1), padding=(1, 1))\n",
       "      (copy_layer): Conv2d(256, 256, kernel_size=(3, 3), stride=(1, 1), padding=(1, 1))\n",
       "    )\n",
       "    (13): ReLU(inplace=True)\n",
       "    (14): LrpGammaRule(\n",
       "      (layer): Conv2d(256, 256, kernel_size=(3, 3), stride=(1, 1), padding=(1, 1))\n",
       "      (copy_layer): Conv2d(256, 256, kernel_size=(3, 3), stride=(1, 1), padding=(1, 1))\n",
       "    )\n",
       "    (15): ReLU(inplace=True)\n",
       "    (16): MaxPool2d(kernel_size=2, stride=2, padding=0, dilation=1, ceil_mode=False)\n",
       "    (17): LrpEpsilonRule(\n",
       "      (layer): Conv2d(256, 512, kernel_size=(3, 3), stride=(1, 1), padding=(1, 1))\n",
       "      (copy_layer): Conv2d(256, 512, kernel_size=(3, 3), stride=(1, 1), padding=(1, 1))\n",
       "    )\n",
       "    (18): ReLU(inplace=True)\n",
       "    (19): LrpEpsilonRule(\n",
       "      (layer): Conv2d(512, 512, kernel_size=(3, 3), stride=(1, 1), padding=(1, 1))\n",
       "      (copy_layer): Conv2d(512, 512, kernel_size=(3, 3), stride=(1, 1), padding=(1, 1))\n",
       "    )\n",
       "    (20): ReLU(inplace=True)\n",
       "    (21): LrpEpsilonRule(\n",
       "      (layer): Conv2d(512, 512, kernel_size=(3, 3), stride=(1, 1), padding=(1, 1))\n",
       "      (copy_layer): Conv2d(512, 512, kernel_size=(3, 3), stride=(1, 1), padding=(1, 1))\n",
       "    )\n",
       "    (22): ReLU(inplace=True)\n",
       "    (23): MaxPool2d(kernel_size=2, stride=2, padding=0, dilation=1, ceil_mode=False)\n",
       "    (24): LrpEpsilonRule(\n",
       "      (layer): Conv2d(512, 512, kernel_size=(3, 3), stride=(1, 1), padding=(1, 1))\n",
       "      (copy_layer): Conv2d(512, 512, kernel_size=(3, 3), stride=(1, 1), padding=(1, 1))\n",
       "    )\n",
       "    (25): ReLU(inplace=True)\n",
       "    (26): LrpEpsilonRule(\n",
       "      (layer): Conv2d(512, 512, kernel_size=(3, 3), stride=(1, 1), padding=(1, 1))\n",
       "      (copy_layer): Conv2d(512, 512, kernel_size=(3, 3), stride=(1, 1), padding=(1, 1))\n",
       "    )\n",
       "    (27): ReLU(inplace=True)\n",
       "    (28): LrpEpsilonRule(\n",
       "      (layer): Conv2d(512, 512, kernel_size=(3, 3), stride=(1, 1), padding=(1, 1))\n",
       "      (copy_layer): Conv2d(512, 512, kernel_size=(3, 3), stride=(1, 1), padding=(1, 1))\n",
       "    )\n",
       "    (29): ReLU(inplace=True)\n",
       "    (30): MaxPool2d(kernel_size=2, stride=2, padding=0, dilation=1, ceil_mode=False)\n",
       "  )\n",
       "  (avgpool): LrpZeroRule(\n",
       "    (layer): AdaptiveAvgPool2d(output_size=(7, 7))\n",
       "    (copy_layer): AdaptiveAvgPool2d(output_size=(7, 7))\n",
       "  )\n",
       "  (classifier): Sequential(\n",
       "    (0): LrpZeroRule(\n",
       "      (layer): Linear(in_features=25088, out_features=4096, bias=True)\n",
       "      (copy_layer): Linear(in_features=25088, out_features=4096, bias=True)\n",
       "    )\n",
       "    (1): ReLU(inplace=True)\n",
       "    (2): Dropout(p=0.5, inplace=False)\n",
       "    (3): LrpZeroRule(\n",
       "      (layer): Linear(in_features=4096, out_features=4096, bias=True)\n",
       "      (copy_layer): Linear(in_features=4096, out_features=4096, bias=True)\n",
       "    )\n",
       "    (4): ReLU(inplace=True)\n",
       "    (5): Dropout(p=0.5, inplace=False)\n",
       "    (6): LrpZeroRule(\n",
       "      (layer): Linear(in_features=4096, out_features=1000, bias=True)\n",
       "      (copy_layer): Linear(in_features=4096, out_features=1000, bias=True)\n",
       "    )\n",
       "  )\n",
       ")"
      ]
     },
     "execution_count": 5,
     "metadata": {},
     "output_type": "execute_result"
    }
   ],
   "source": [
    "lrp.model"
   ]
  },
  {
   "cell_type": "code",
   "execution_count": 6,
   "metadata": {},
   "outputs": [
    {
     "name": "stdout",
     "output_type": "stream",
     "text": [
      "features.0 LrpZBoxRule\n",
      "features.2 LrpGammaRule\n",
      "features.5 LrpGammaRule\n",
      "features.7 LrpGammaRule\n",
      "features.10 LrpGammaRule\n",
      "features.12 LrpGammaRule\n",
      "features.14 LrpGammaRule\n",
      "features.17 LrpEpsilonRule\n",
      "features.19 LrpEpsilonRule\n",
      "features.21 LrpEpsilonRule\n",
      "features.24 LrpEpsilonRule\n",
      "features.26 LrpEpsilonRule\n",
      "features.28 LrpEpsilonRule\n",
      "avgpool LrpZeroRule\n",
      "classifier.0 LrpZeroRule\n",
      "classifier.3 LrpZeroRule\n",
      "classifier.6 LrpZeroRule\n"
     ]
    }
   ],
   "source": [
    "for layers, rule, params in name_map:\n",
    "    for layer in layers:\n",
    "        print(f'{layer} {rule.__name__}')"
   ]
  }
 ],
 "metadata": {
  "interpreter": {
   "hash": "0431170e0a69c05b0d16d782151a0ffea81a7c290afc025c33023a7a723c05b4"
  },
  "kernelspec": {
   "display_name": "Python 3.9.9 64-bit ('venv': venv)",
   "language": "python",
   "name": "python3"
  },
  "language_info": {
   "codemirror_mode": {
    "name": "ipython",
    "version": 3
   },
   "file_extension": ".py",
   "mimetype": "text/x-python",
   "name": "python",
   "nbconvert_exporter": "python",
   "pygments_lexer": "ipython3",
   "version": "3.9.9"
  },
  "orig_nbformat": 4
 },
 "nbformat": 4,
 "nbformat_minor": 2
}
