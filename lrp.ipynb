{
 "cells": [
  {
   "cell_type": "markdown",
   "metadata": {},
   "source": [
    "# LRP\n",
    "\n",
    "Implementation of Layer-wise Relevance Propagation (LRP) in PyTorch."
   ]
  },
  {
   "cell_type": "code",
   "execution_count": 1,
   "metadata": {},
   "outputs": [],
   "source": [
    "import myutils\n",
    "img = myutils.load_normalized_img('castle.jpg')\n",
    "X = myutils.img_to_tensor(img)\n",
    "\n",
    "import torchvision\n",
    "model = torchvision.models.vgg16(pretrained=True)\n",
    "model.eval()\n",
    "\n",
    "import utils\n",
    "import torch"
   ]
  },
  {
   "cell_type": "code",
   "execution_count": 2,
   "metadata": {},
   "outputs": [],
   "source": [
    "import copy\n",
    "\n",
    "# Parameter modifier\n",
    "# max(0, *)\n",
    "positive_contributions = lambda p: p.clamp(min=0)\n",
    "# min(0, *)\n",
    "negative_contributions = lambda p: p.clamp(max=0)\n",
    "\n",
    "# Build an equivalent forward pass where part of it is detached\n",
    "class ZeroEpsilonGammaConv(torch.nn.Module):\n",
    "\n",
    "  def __init__(self, conv, epsilon=0, gamma=0):\n",
    "    torch.nn.Module.__init__(self)\n",
    "    self.epsilon = epsilon\n",
    "    self.conv = conv\n",
    "    # p stands for processed\n",
    "    self.pconv = copy.deepcopy(conv)\n",
    "    self.pconv.weight = torch.nn.Parameter(conv.weight + gamma * positive_contributions(conv.weight))\n",
    "    self.pconv.bias = torch.nn.Parameter(conv.bias + gamma * positive_contributions(conv.bias))\n",
    "\n",
    "  def forward(self, X):\n",
    "    z = self.conv.forward(X)\n",
    "    zp = self.epsilon + self.pconv.forward(X)\n",
    "    # The additive term 1e-9 enforces 0/0 = 0 (numerical stability)\n",
    "    return zp * (z / (zp + 1e-9)).detach()\n",
    "    # return zp * (z / zp).detach()"
   ]
  },
  {
   "cell_type": "code",
   "execution_count": 3,
   "metadata": {},
   "outputs": [],
   "source": [
    "\n",
    "import torch\n",
    "from myutils import ILSVRC2012_BatchNormalize\n",
    "batch_size = 1\n",
    "shape = (batch_size, 3, 224, 224)\n",
    "norm_fn = ILSVRC2012_BatchNormalize()\n",
    "low = norm_fn(torch.zeros(*shape))\n",
    "high = norm_fn(torch.ones(*shape))\n",
    "\n",
    "class ZBConv(torch.nn.Module):\n",
    "\n",
    "  def __init__(self, conv, low, high):\n",
    "    torch.nn.Module.__init__(self)\n",
    "    self.conv = conv\n",
    "    self.low = low\n",
    "    self.high = high\n",
    "    self.low.requires_grad = True\n",
    "    self.high.requires_grad = True\n",
    "    \n",
    "    self.low_conv = copy.deepcopy(conv)\n",
    "    self.high_conv = copy.deepcopy(conv)\n",
    "\n",
    "    self.low_conv.weight = torch.nn.Parameter(positive_contributions(conv.weight))\n",
    "    self.low_conv.bias = torch.nn.Parameter(positive_contributions(conv.bias))\n",
    "\n",
    "    self.high_conv.weight = torch.nn.Parameter(negative_contributions(conv.weight))\n",
    "    self.high_conv.bias = torch.nn.Parameter(negative_contributions(conv.bias))\n",
    "\n",
    "  def forward(self, X):\n",
    "    z_conv = self.conv.forward(X)\n",
    "    z_low = self.low_conv.forward(self.low)\n",
    "    z_high = self.high_conv.forward(self.high)\n",
    "\n",
    "    z = z_conv - z_low - z_high\n",
    "\n",
    "    return z * (z_conv / (z + 1e-9)).detach()"
   ]
  },
  {
   "cell_type": "code",
   "execution_count": 4,
   "metadata": {},
   "outputs": [],
   "source": [
    "class LRP():\n",
    "  def __init__(self, model) -> None:\n",
    "      self.model = model\n",
    "      self.model.eval()\n",
    "\n",
    "  def convert_single_layer(self, i, layer, classifier=False):\n",
    "    if i == 0 and not classifier:\n",
    "      # First layer is the pixel layer\n",
    "      # return layer\n",
    "      return ZBConv(layer, low=low, high=high)\n",
    "      \n",
    "    # # Source: lrp-tutorial\n",
    "    # if isinstance(layers[l],torch.nn.MaxPool2d):\n",
    "    #   layers[l] = torch.nn.AvgPool2d(2)\n",
    "    #\n",
    "    # if isinstance(layer, torch.nn.MaxPool2d):\n",
    "    #   layer = ZeroEpsilonGammaConv(layer, gamma)\n",
    "\n",
    "    # Case: bottom layers, apply LRP-Gamma with gamma = 0.25\n",
    "    if i <= 16: gamma = 0.25; epsilon = 0\n",
    "\n",
    "    # Case: middle layers, apply LRP-Epsilon with epsilon = 0.25. Alt. 1e-6\n",
    "    if 17 <= i <= 30: gamma = 0; epsilon = 0.25\n",
    "\n",
    "    # Case: top layers, apply LRP-0\n",
    "    if i >= 31: gamma = 0; epsilon = 0\n",
    "\n",
    "    if isinstance(layer, torch.nn.Conv2d):\n",
    "      return ZeroEpsilonGammaConv(layer, epsilon=epsilon, gamma=gamma)\n",
    "    \n",
    "    return layer\n",
    "\n",
    "  def convert_layers(self):\n",
    "    for i, layer in enumerate(self.model.features):\n",
    "      self.model.features[i] = self.convert_single_layer(i, layer)\n",
    "\n",
    "    # self.model.avgpool = self.convert_single_layer(31, layer)\n",
    "    \n",
    "    for i, layer in enumerate(self.model.classifier):\n",
    "      self.model.classifier[i] = self.convert_single_layer(i, layer, classifier=True)\n",
    "\n",
    "  def relevance(self, X):\n",
    "    # Apply Gradient x Input\n",
    "    # Prepare to compute input gradient\n",
    "\n",
    "    # Reset gradient\n",
    "    self.model.zero_grad()\n",
    "    X.requires_grad = True\n",
    "\n",
    "    # Compute explanation\n",
    "    # Stores value of gradient in X.grad\n",
    "    # [0].max() retrieves the maximum activation/relevance in the first layer\n",
    "    # = 483 for castle\n",
    "    self.model.forward(X)[0].max().backward()\n",
    "\n",
    "    # Retrieve gradients from first layer\n",
    "    first_layer = self.model.features[0]\n",
    "    l = first_layer.low\n",
    "    h = first_layer.high\n",
    "    \n",
    "    # Calculate gradients\n",
    "    c1, c2, c3 = X.grad, l.grad, h.grad\n",
    "\n",
    "    # Calculate relevance\n",
    "    self.R = X*c1 + l*c2 + h*c3\n",
    "    return self.R\n",
    "\n",
    "  def visualize(self):\n",
    "    utils.heatmap(self.R[0].sum(dim=0).detach().numpy(), 4,4)"
   ]
  },
  {
   "cell_type": "code",
   "execution_count": 5,
   "metadata": {},
   "outputs": [
    {
     "data": {
      "image/png": "[encoded data removed]",
      "text/plain": [
       "<Figure size 288x288 with 1 Axes>"
      ]
     },
     "metadata": {
      "needs_background": "light"
     },
     "output_type": "display_data"
    }
   ],
   "source": [
    "lrp = LRP(model)\n",
    "lrp.convert_layers()\n",
    "lrp.relevance(X)\n",
    "lrp.visualize()"
   ]
  },
  {
   "cell_type": "markdown",
   "metadata": {},
   "source": [
    "# ToDo:\n",
    "\n",
    "- Extend mapping to classification layers (model.children or model.modules)\n",
    "- Apply different rules by layer type and index\n",
    "Source: https://github.com/adrhill/ExplainabilityMethods.jl/blob/0a9ca79d75525f99eb59a5d54bc7b0e7486ac614/src/lrp_rules.jl#L84-L88\n",
    "\n",
    "## Automation\n",
    "\n",
    "- Automate modifying the parameters of the model (named_parameters(), see zennit)\n",
    "- Looping through layers of model (children, modules)\n",
    "\n",
    "--- \n",
    "\n",
    "## Hard\n",
    "\n",
    "- Canonize models\n",
    "- Convert MaxPooling2D to AvgPooling2D\n",
    "\n"
   ]
  }
 ],
 "metadata": {
  "interpreter": {
   "hash": "0431170e0a69c05b0d16d782151a0ffea81a7c290afc025c33023a7a723c05b4"
  },
  "kernelspec": {
   "display_name": "Python 3.9.9 64-bit ('venv': venv)",
   "language": "python",
   "name": "python3"
  },
  "language_info": {
   "codemirror_mode": {
    "name": "ipython",
    "version": 3
   },
   "file_extension": ".py",
   "mimetype": "text/x-python",
   "name": "python",
   "nbconvert_exporter": "python",
   "pygments_lexer": "ipython3",
   "version": "3.9.9"
  },
  "orig_nbformat": 4
 },
 "nbformat": 4,
 "nbformat_minor": 2
}
